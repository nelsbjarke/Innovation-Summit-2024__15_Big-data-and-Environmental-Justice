{
 "cells": [
  {
   "cell_type": "code",
   "execution_count": 3,
   "id": "f212b361-8c05-4021-ac01-0ae562e7b517",
   "metadata": {},
   "outputs": [],
   "source": [
    "import shutil\n",
    "import os\n",
    "import glob\n",
    "import zipfile"
   ]
  },
  {
   "cell_type": "code",
   "execution_count": 38,
   "id": "c0898a33-d950-4c12-8a74-ec98540bb98b",
   "metadata": {},
   "outputs": [
    {
     "name": "stdout",
     "output_type": "stream",
     "text": [
      "47\n"
     ]
    }
   ],
   "source": [
    "'''Create a list of the zip files'''\n",
    "zip_list = glob.glob('home/nelsbjarke/analyses/NSF_Grant_Data/FullNSF/1978.zip')\n",
    "\n",
    "print(len(zip_list))"
   ]
  },
  {
   "cell_type": "code",
   "execution_count": 41,
   "id": "1cdc9e9b-8a57-4bd5-9f22-03fed0e93f21",
   "metadata": {},
   "outputs": [
    {
     "name": "stdout",
     "output_type": "stream",
     "text": [
      "home/nelsbjarke/analyses/NSF_Grant_Data/FullNSF/2022\n",
      "home/nelsbjarke/analyses/NSF_Grant_Data/FullNSF/2022.zip\n"
     ]
    },
    {
     "ename": "ReadError",
     "evalue": "home/nelsbjarke/analyses/NSF_Grant_Data/FullNSF/2022.zip is not a zip file",
     "output_type": "error",
     "traceback": [
      "\u001b[0;31m---------------------------------------------------------------------------\u001b[0m",
      "\u001b[0;31mReadError\u001b[0m                                 Traceback (most recent call last)",
      "Cell \u001b[0;32mIn[41], line 21\u001b[0m\n\u001b[1;32m     11\u001b[0m     shutil\u001b[38;5;241m.\u001b[39munpack_archive(zip_path, extract_dir)\n\u001b[1;32m     12\u001b[0m     \u001b[38;5;66;03m# with zipfile.ZipFile(zip_path, 'r') as zip_ref:\u001b[39;00m\n\u001b[1;32m     13\u001b[0m     \u001b[38;5;66;03m#     print(zip_ref)\u001b[39;00m\n\u001b[1;32m     14\u001b[0m     \u001b[38;5;66;03m#     # Extract all the contents into the directory\u001b[39;00m\n\u001b[0;32m   (...)\u001b[0m\n\u001b[1;32m     18\u001b[0m \n\u001b[1;32m     19\u001b[0m \u001b[38;5;66;03m# Loop through the list of zip files and unzip each\u001b[39;00m\n\u001b[0;32m---> 21\u001b[0m \u001b[43munzip_file\u001b[49m\u001b[43m(\u001b[49m\u001b[38;5;124;43m'\u001b[39;49m\u001b[38;5;124;43mhome/nelsbjarke/analyses/NSF_Grant_Data/FullNSF/2022.zip\u001b[39;49m\u001b[38;5;124;43m'\u001b[39;49m\u001b[43m)\u001b[49m\n\u001b[1;32m     22\u001b[0m \u001b[38;5;66;03m# for zip_file in zip_list:\u001b[39;00m\n\u001b[1;32m     23\u001b[0m \u001b[38;5;66;03m#     unzip_file(zip_file)\u001b[39;00m\n",
      "Cell \u001b[0;32mIn[41], line 11\u001b[0m, in \u001b[0;36munzip_file\u001b[0;34m(zip_path)\u001b[0m\n\u001b[1;32m      9\u001b[0m \u001b[38;5;28mprint\u001b[39m(zip_path)\n\u001b[1;32m     10\u001b[0m \u001b[38;5;66;03m# Open the zip file\u001b[39;00m\n\u001b[0;32m---> 11\u001b[0m \u001b[43mshutil\u001b[49m\u001b[38;5;241;43m.\u001b[39;49m\u001b[43munpack_archive\u001b[49m\u001b[43m(\u001b[49m\u001b[43mzip_path\u001b[49m\u001b[43m,\u001b[49m\u001b[43m \u001b[49m\u001b[43mextract_dir\u001b[49m\u001b[43m)\u001b[49m\n",
      "File \u001b[0;32m/opt/conda/envs/macrosystems/lib/python3.10/shutil.py:1314\u001b[0m, in \u001b[0;36munpack_archive\u001b[0;34m(filename, extract_dir, format, filter)\u001b[0m\n\u001b[1;32m   1312\u001b[0m func \u001b[38;5;241m=\u001b[39m _UNPACK_FORMATS[\u001b[38;5;28mformat\u001b[39m][\u001b[38;5;241m1\u001b[39m]\n\u001b[1;32m   1313\u001b[0m kwargs \u001b[38;5;241m=\u001b[39m \u001b[38;5;28mdict\u001b[39m(_UNPACK_FORMATS[\u001b[38;5;28mformat\u001b[39m][\u001b[38;5;241m2\u001b[39m]) \u001b[38;5;241m|\u001b[39m filter_kwargs\n\u001b[0;32m-> 1314\u001b[0m \u001b[43mfunc\u001b[49m\u001b[43m(\u001b[49m\u001b[43mfilename\u001b[49m\u001b[43m,\u001b[49m\u001b[43m \u001b[49m\u001b[43mextract_dir\u001b[49m\u001b[43m,\u001b[49m\u001b[43m \u001b[49m\u001b[38;5;241;43m*\u001b[39;49m\u001b[38;5;241;43m*\u001b[39;49m\u001b[43mkwargs\u001b[49m\u001b[43m)\u001b[49m\n",
      "File \u001b[0;32m/opt/conda/envs/macrosystems/lib/python3.10/shutil.py:1201\u001b[0m, in \u001b[0;36m_unpack_zipfile\u001b[0;34m(filename, extract_dir)\u001b[0m\n\u001b[1;32m   1198\u001b[0m \u001b[38;5;28;01mimport\u001b[39;00m \u001b[38;5;21;01mzipfile\u001b[39;00m  \u001b[38;5;66;03m# late import for breaking circular dependency\u001b[39;00m\n\u001b[1;32m   1200\u001b[0m \u001b[38;5;28;01mif\u001b[39;00m \u001b[38;5;129;01mnot\u001b[39;00m zipfile\u001b[38;5;241m.\u001b[39mis_zipfile(filename):\n\u001b[0;32m-> 1201\u001b[0m     \u001b[38;5;28;01mraise\u001b[39;00m ReadError(\u001b[38;5;124m\"\u001b[39m\u001b[38;5;132;01m%s\u001b[39;00m\u001b[38;5;124m is not a zip file\u001b[39m\u001b[38;5;124m\"\u001b[39m \u001b[38;5;241m%\u001b[39m filename)\n\u001b[1;32m   1203\u001b[0m \u001b[38;5;28mzip\u001b[39m \u001b[38;5;241m=\u001b[39m zipfile\u001b[38;5;241m.\u001b[39mZipFile(filename)\n\u001b[1;32m   1204\u001b[0m \u001b[38;5;28;01mtry\u001b[39;00m:\n",
      "\u001b[0;31mReadError\u001b[0m: home/nelsbjarke/analyses/NSF_Grant_Data/FullNSF/2022.zip is not a zip file"
     ]
    }
   ],
   "source": [
    "# Function to unzip files\n",
    "def unzip_file(zip_path):\n",
    "    # Determine the directory to extract to\n",
    "    # Extract to a folder with the same name as the zip file\n",
    "    extract_dir = os.path.splitext(zip_path)[0]\n",
    "    print(extract_dir)\n",
    "    # Create the directory if it does not exist\n",
    "    os.makedirs(extract_dir, exist_ok=True)\n",
    "    print(zip_path)\n",
    "    # Open the zip file\n",
    "    shutil.unpack_archive(zip_path, extract_dir)\n",
    "    # with zipfile.ZipFile(zip_path, 'r') as zip_ref:\n",
    "    #     print(zip_ref)\n",
    "    #     # Extract all the contents into the directory\n",
    "    #     print(zip_ref)\n",
    "    #     zip_ref.extractall(extract_dir)\n",
    "    #     print(f'Extracted {zip_path} to {extract_dir}')\n",
    "\n",
    "# Loop through the list of zip files and unzip each\n",
    "\n",
    "unzip_file('home/nelsbjarke/analyses/NSF_Grant_Data/FullNSF/2022.zip')\n",
    "# for zip_file in zip_list:\n",
    "#     unzip_file(zip_file)"
   ]
  },
  {
   "cell_type": "code",
   "execution_count": null,
   "id": "f3a883e9-ed1f-466d-bd31-f7ed3896d991",
   "metadata": {},
   "outputs": [],
   "source": []
  }
 ],
 "metadata": {
  "kernelspec": {
   "display_name": "macrosystems",
   "language": "python",
   "name": "macrosystems"
  },
  "language_info": {
   "codemirror_mode": {
    "name": "ipython",
    "version": 3
   },
   "file_extension": ".py",
   "mimetype": "text/x-python",
   "name": "python",
   "nbconvert_exporter": "python",
   "pygments_lexer": "ipython3",
   "version": "3.10.13"
  }
 },
 "nbformat": 4,
 "nbformat_minor": 5
}
